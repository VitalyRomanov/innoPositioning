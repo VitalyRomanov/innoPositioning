{
 "cells": [
  {
   "cell_type": "markdown",
   "metadata": {},
   "source": [
    "# Demo of thesis \"Outdoor localization with Wi-Fi\""
   ]
  },
  {
   "cell_type": "markdown",
   "metadata": {},
   "source": [
    "Author: Darina Dementyeva"
   ]
  },
  {
   "cell_type": "code",
   "execution_count": 1,
   "metadata": {
    "collapsed": true
   },
   "outputs": [],
   "source": [
    "import numpy as np\n",
    "import math\n",
    "from scipy import stats"
   ]
  },
  {
   "cell_type": "markdown",
   "metadata": {},
   "source": [
    "## Input data"
   ]
  },
  {
   "cell_type": "code",
   "execution_count": 58,
   "metadata": {
    "collapsed": true
   },
   "outputs": [],
   "source": [
    "#room size\n",
    "n = 100\n",
    "m = 100"
   ]
  },
  {
   "cell_type": "code",
   "execution_count": 57,
   "metadata": {
    "collapsed": false
   },
   "outputs": [],
   "source": [
    "#define params of signal propagation distribution\n",
    "\n",
    "mu = np.zeros((n, m)) # mean\n",
    "alpha = 3\n",
    "d0 = 4\n",
    "p_d0 = -53\n",
    "\n",
    "x = np.ones((m,1),int)*range(n)\n",
    "y = np.transpose(np.ones((n,1),int)*range(m))\n",
    "d = np.sqrt((x-49)**2 + (y-49)**2)+4\n",
    "mu = p_d0 - 10 * alpha * np.log10(d / d0)"
   ]
  },
  {
   "cell_type": "code",
   "execution_count": 55,
   "metadata": {
    "collapsed": true
   },
   "outputs": [],
   "source": [
    "sigma = np.ones((n, m)) #variance"
   ]
  },
  {
   "cell_type": "code",
   "execution_count": 56,
   "metadata": {
    "collapsed": true
   },
   "outputs": [],
   "source": [
    "#start point\n",
    "x0 = 0\n",
    "y0 = 0"
   ]
  },
  {
   "cell_type": "code",
   "execution_count": 53,
   "metadata": {
    "collapsed": true
   },
   "outputs": [],
   "source": [
    "#start velocity\n",
    "v0 = 0"
   ]
  },
  {
   "cell_type": "code",
   "execution_count": 54,
   "metadata": {
    "collapsed": true
   },
   "outputs": [],
   "source": [
    "#time interval\n",
    "dt = 1"
   ]
  },
  {
   "cell_type": "markdown",
   "metadata": {},
   "source": [
    "## Positioning Algorithm"
   ]
  },
  {
   "cell_type": "markdown",
   "metadata": {},
   "source": [
    "Some model parameters:"
   ]
  },
  {
   "cell_type": "code",
   "execution_count": 97,
   "metadata": {
    "collapsed": true
   },
   "outputs": [],
   "source": [
    "#person's motion: acceleration distribution\n",
    "mu_a = 1\n",
    "sigma_a = 1"
   ]
  },
  {
   "cell_type": "code",
   "execution_count": 60,
   "metadata": {
    "collapsed": true
   },
   "outputs": [],
   "source": [
    "#number of samples\n",
    "K = 100"
   ]
  },
  {
   "cell_type": "markdown",
   "metadata": {},
   "source": [
    "Supplementary functions:"
   ]
  },
  {
   "cell_type": "code",
   "execution_count": 30,
   "metadata": {
    "collapsed": true
   },
   "outputs": [],
   "source": [
    "def cond_prob(rssi, n, m, mu, sigma):     \n",
    "    cond_prob = stats.norm(mu, sigma).pdf(rssi)\n",
    "    return cond_prob"
   ]
  },
  {
   "cell_type": "code",
   "execution_count": 36,
   "metadata": {
    "collapsed": true
   },
   "outputs": [],
   "source": [
    "def sample_generation(mu_a, sigma_a, K):\n",
    "    a = np.random.normal(mu_a, sigma_a, K) #can be changed\n",
    "    p_a = stats.norm(mu_a, sigma_a).pdf(a)   \n",
    "    return [a, p_a]"
   ]
  },
  {
   "cell_type": "code",
   "execution_count": 98,
   "metadata": {
    "collapsed": false
   },
   "outputs": [],
   "source": [
    "def motion_map(x, y, v, mu_a, sigma_a, K):\n",
    "    samples  = sample_generation(mu_a, sigma_a, K)\n",
    "    motion_prob = np.zeros((n, m))\n",
    "    acceleration = np.zeros((n, m))\n",
    "    for i in range(0, len(samples[0])):\n",
    "        a = samples[0][i]\n",
    "        p_a = samples[1][i]\n",
    "        x_t = int(round(x + v*dt + a*a*dt/2, 0))\n",
    "        y_t = int(round(y + v*dt + a*a*dt/2, 0))\n",
    "        if x_t >= n | y_t >=m: #deal with going beyond the boundaries \n",
    "            x_t = x\n",
    "            y_t = y\n",
    "            a = 0\n",
    "        motion_prob[x_t][y_t] = p_a\n",
    "        acceleration[x_t][y_t] = a\n",
    "        \n",
    "    return motion_prob, acceleration"
   ]
  },
  {
   "cell_type": "markdown",
   "metadata": {},
   "source": [
    "Path calculation: for input we take the array of rssi measurements"
   ]
  },
  {
   "cell_type": "code",
   "execution_count": 95,
   "metadata": {
    "collapsed": true
   },
   "outputs": [],
   "source": [
    "def path_estimation(RSSI, x, y, v):\n",
    "    path_est = []\n",
    "    path_est.append((0,0))\n",
    "    #print(str(0) + \" \" + str(0))\n",
    "    for rssi in RSSI:\n",
    "        print(\"Velocity: \" + str(v))\n",
    "        rssi_prob = cond_prob(rssi, n, m, mu, sigma)\n",
    "        motion_prob, acceleration = motion_map(x, y, v, mu_a, sigma_a, K)\n",
    "        prob = np.multiply(rssi_prob, motion_prob)\n",
    "        best_samples = np.where(prob==prob.max()) #choose not just bust and first but adequate\n",
    "        x = best_samples[0][0]\n",
    "        y = best_samples[1][0]\n",
    "        print(best_samples)\n",
    "        print(str(x) + \" \" + str(y))\n",
    "        a = acceleration[x][y]\n",
    "        print(\"Acceleration: \" + str(a))\n",
    "        \n",
    "        path_est.append((x, y))\n",
    "        v = v + a*dt\n",
    "        \n",
    "    return path_est"
   ]
  },
  {
   "cell_type": "markdown",
   "metadata": {},
   "source": [
    "## Test generation"
   ]
  },
  {
   "cell_type": "code",
   "execution_count": 76,
   "metadata": {
    "collapsed": false,
    "scrolled": true
   },
   "outputs": [],
   "source": [
    "def path_generation(length):\n",
    "    path = [(0,0)]\n",
    "    rssi = []\n",
    "    rssi.append(np.random.normal(mu[0][0], sigma[0][0], 1))\n",
    "    v = 0\n",
    "\n",
    "    for i in range(1, length):\n",
    "        a = np.random.normal(1, 1)\n",
    "        dx = np.random.randint(0, 3) #change to generation with acceleration\n",
    "        dy = np.random.randint(0, 3)\n",
    "        x = int(round(path[-1][0] + v*dt + a*a*dt/2, 0))\n",
    "        y = int(round(path[-1][1] + v*dt + a*a*dt/2, 0))\n",
    "        v = v + a*dt\n",
    "        #print(str(dx) + \" \" + str(dy))\n",
    "        path.append((x,y))\n",
    "        rssi.append(np.random.normal(mu[x][y], sigma[x][y], 1))\n",
    "        \n",
    "    return rssi, path"
   ]
  },
  {
   "cell_type": "code",
   "execution_count": 77,
   "metadata": {
    "collapsed": false
   },
   "outputs": [],
   "source": [
    "N = 5\n",
    "paths = []\n",
    "\n",
    "for i in range(0,5):\n",
    "    paths.append(path_generation(5))"
   ]
  },
  {
   "cell_type": "markdown",
   "metadata": {},
   "source": [
    "## Model evaluation"
   ]
  },
  {
   "cell_type": "code",
   "execution_count": 78,
   "metadata": {
    "collapsed": true
   },
   "outputs": [],
   "source": [
    "def error(path, path_est):\n",
    "    error = 0\n",
    "    for i in range(0, len(path)):\n",
    "        error = error + (path[i][0] - path_est[i][0])**2 + (path[i][1] - path_est[i][1])**2\n",
    "    error = math.sqrt(error)\n",
    "\n",
    "    print(\"Error : \" + str(error))"
   ]
  },
  {
   "cell_type": "code",
   "execution_count": 79,
   "metadata": {
    "collapsed": false,
    "scrolled": true
   },
   "outputs": [
    {
     "data": {
      "text/plain": [
       "[(0, 0),\n",
       " (0, 0),\n",
       " (0, 0),\n",
       " (1, 1),\n",
       " (3, 3),\n",
       " (6, 6),\n",
       " (12, 12),\n",
       " (18, 18),\n",
       " (27, 27),\n",
       " (36, 36)]"
      ]
     },
     "execution_count": 79,
     "metadata": {},
     "output_type": "execute_result"
    }
   ],
   "source": [
    "RSSI, path = path_generation(10)\n",
    "path"
   ]
  },
  {
   "cell_type": "code",
   "execution_count": 102,
   "metadata": {
    "collapsed": false
   },
   "outputs": [
    {
     "name": "stdout",
     "output_type": "stream",
     "text": [
      "Velocity: 0\n",
      "(array([2]), array([2]))\n",
      "2 2\n",
      "Acceleration: 1.82388149235\n",
      "Velocity: 1.82388149235\n",
      "(array([4]), array([4]))\n",
      "4 4\n",
      "Acceleration: 0.985725654402\n",
      "Velocity: 2.80960714675\n",
      "(array([7]), array([7]))\n",
      "7 7\n",
      "Acceleration: -0.237276769939\n",
      "Velocity: 2.57233037681\n",
      "(array([10]), array([10]))\n",
      "10 10\n",
      "Acceleration: 1.11102510701\n",
      "Velocity: 3.68335548382\n",
      "(array([14]), array([14]))\n",
      "14 14\n",
      "Acceleration: 0.389048919748\n",
      "Velocity: 4.07240440357\n",
      "(array([18]), array([18]))\n",
      "18 18\n",
      "Acceleration: -0.527511051439\n",
      "Velocity: 3.54489335213\n",
      "(array([22]), array([22]))\n",
      "22 22\n",
      "Acceleration: 1.24674811036\n",
      "Velocity: 4.79164146249\n",
      "(array([27]), array([27]))\n",
      "27 27\n",
      "Acceleration: 1.12489950262\n",
      "Velocity: 5.91654096511\n",
      "(array([33]), array([33]))\n",
      "33 33\n",
      "Acceleration: 0.551249400647\n",
      "Velocity: 6.46779036575\n",
      "(array([39]), array([39]))\n",
      "39 39\n",
      "Acceleration: 0.0962496775797\n"
     ]
    }
   ],
   "source": [
    "path_est = path_estimation(RSSI, x0, y0, v0)"
   ]
  },
  {
   "cell_type": "code",
   "execution_count": 103,
   "metadata": {
    "collapsed": false
   },
   "outputs": [
    {
     "data": {
      "text/plain": [
       "[(0, 0),\n",
       " (2, 2),\n",
       " (4, 4),\n",
       " (7, 7),\n",
       " (10, 10),\n",
       " (14, 14),\n",
       " (18, 18),\n",
       " (22, 22),\n",
       " (27, 27),\n",
       " (33, 33),\n",
       " (39, 39)]"
      ]
     },
     "execution_count": 103,
     "metadata": {},
     "output_type": "execute_result"
    }
   ],
   "source": [
    "path_est"
   ]
  },
  {
   "cell_type": "code",
   "execution_count": 104,
   "metadata": {
    "collapsed": false
   },
   "outputs": [
    {
     "name": "stdout",
     "output_type": "stream",
     "text": [
      "Error : 21.447610589527216\n"
     ]
    }
   ],
   "source": [
    "error(path, path_est)"
   ]
  },
  {
   "cell_type": "code",
   "execution_count": null,
   "metadata": {
    "collapsed": true
   },
   "outputs": [],
   "source": []
  }
 ],
 "metadata": {
  "kernelspec": {
   "display_name": "Python 3",
   "language": "python",
   "name": "python3"
  },
  "language_info": {
   "codemirror_mode": {
    "name": "ipython",
    "version": 3
   },
   "file_extension": ".py",
   "mimetype": "text/x-python",
   "name": "python",
   "nbconvert_exporter": "python",
   "pygments_lexer": "ipython3",
   "version": "3.6.0"
  }
 },
 "nbformat": 4,
 "nbformat_minor": 2
}
