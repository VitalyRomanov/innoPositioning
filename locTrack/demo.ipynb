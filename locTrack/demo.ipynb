{
 "cells": [
  {
   "cell_type": "markdown",
   "metadata": {},
   "source": [
    "# Demo of thesis \"Outdoor localization with Wi-Fi\""
   ]
  },
  {
   "cell_type": "markdown",
   "metadata": {},
   "source": [
    "Author: Darina Dementyeva"
   ]
  },
  {
   "cell_type": "code",
   "execution_count": 10,
   "metadata": {
    "collapsed": true
   },
   "outputs": [],
   "source": [
    "import numpy as np\n",
    "import math\n",
    "from scipy import stats"
   ]
  },
  {
   "cell_type": "markdown",
   "metadata": {},
   "source": [
    "## Input data"
   ]
  },
  {
   "cell_type": "code",
   "execution_count": 1,
   "metadata": {
    "collapsed": true
   },
   "outputs": [],
   "source": [
    "#room size\n",
    "n = 100\n",
    "m = 100"
   ]
  },
  {
   "cell_type": "code",
   "execution_count": 6,
   "metadata": {
    "collapsed": false
   },
   "outputs": [],
   "source": [
    "#define params of signal propagation distribution\n",
    "\n",
    "mu = np.zeros((n, m)) # mean\n",
    "alpha = 3\n",
    "d0 = 4\n",
    "p_d0 = -53\n",
    "for i in range(0, n):\n",
    "    for j in range(0, m): \n",
    "        d = math.sqrt((49 - i)*(49 - i) + (49 - j)*(49 - j)) + 4\n",
    "        mu[i][j] = p_d0 - 10 * alpha * math.log10(d / d0)"
   ]
  },
  {
   "cell_type": "code",
   "execution_count": 7,
   "metadata": {
    "collapsed": true
   },
   "outputs": [],
   "source": [
    "sigma = np.ones((n, m)) #variance"
   ]
  },
  {
   "cell_type": "code",
   "execution_count": 106,
   "metadata": {
    "collapsed": true
   },
   "outputs": [],
   "source": [
    "#start point\n",
    "x0 = 0\n",
    "y0 = 0"
   ]
  },
  {
   "cell_type": "code",
   "execution_count": 105,
   "metadata": {
    "collapsed": true
   },
   "outputs": [],
   "source": [
    "#start velocity\n",
    "v0 = 0"
   ]
  },
  {
   "cell_type": "code",
   "execution_count": 60,
   "metadata": {
    "collapsed": true
   },
   "outputs": [],
   "source": [
    "#time interval\n",
    "dt = 1"
   ]
  },
  {
   "cell_type": "markdown",
   "metadata": {},
   "source": [
    "## Positioning Algorithm"
   ]
  },
  {
   "cell_type": "markdown",
   "metadata": {},
   "source": [
    "Some model parameters:"
   ]
  },
  {
   "cell_type": "code",
   "execution_count": 14,
   "metadata": {
    "collapsed": true
   },
   "outputs": [],
   "source": [
    "#person's motion: acceleration distribution\n",
    "mu_a = 0\n",
    "sigma_a = 1"
   ]
  },
  {
   "cell_type": "code",
   "execution_count": 15,
   "metadata": {
    "collapsed": true
   },
   "outputs": [],
   "source": [
    "#number of samples\n",
    "K = 100"
   ]
  },
  {
   "cell_type": "markdown",
   "metadata": {},
   "source": [
    "Supplementary functions:"
   ]
  },
  {
   "cell_type": "code",
   "execution_count": 63,
   "metadata": {
    "collapsed": true
   },
   "outputs": [],
   "source": [
    "def cond_prob(rssi, n, m, mu, sigma):\n",
    "    cond_prob = np.zeros((n, m))\n",
    "    for i in range(0, n):\n",
    "        for j in range(0, m):\n",
    "            cond_prob[i][j] = stats.norm(mu[i][j], sigma[i][j]).pdf(rssi)\n",
    "            \n",
    "    return cond_prob"
   ]
  },
  {
   "cell_type": "code",
   "execution_count": 97,
   "metadata": {
    "collapsed": true
   },
   "outputs": [],
   "source": [
    "def sample_generation(mu_a, sigma_a, K):\n",
    "    a = np.random.normal(mu_a, sigma_a, K) #can be changed\n",
    "    p_a = []\n",
    "    for i in range(0, K):\n",
    "        p_a.append(stats.norm(mu_a, sigma_a).pdf(a[i])) #can be changed\n",
    "        \n",
    "    return [a, p_a]"
   ]
  },
  {
   "cell_type": "code",
   "execution_count": 119,
   "metadata": {
    "collapsed": false
   },
   "outputs": [],
   "source": [
    "def motion_map(x, y, v, mu_a, sigma_a, K):\n",
    "    samples  = sample_generation(mu_a, sigma_a, K)\n",
    "    motion_prob = np.zeros((n, m))\n",
    "    acceleration = np.zeros((n, m))\n",
    "    for i in range(0, len(samples[0])):\n",
    "        a = samples[0][i]\n",
    "        p_a = samples[1][i]\n",
    "        x_t = int(round(x + v*dt + a*a*dt/2, 0))\n",
    "        y_t = int(round(y + v*dt + a*a*dt/2, 0))\n",
    "        if x_t >= n | y_t >=m: #deal with going beyond the boundaries \n",
    "            x_t = x\n",
    "            y_t = y\n",
    "            a = 0\n",
    "        motion_prob[x_t][y_t] = p_a\n",
    "        acceleration[x_t][y_t] = a\n",
    "        \n",
    "    return motion_prob, acceleration"
   ]
  },
  {
   "cell_type": "markdown",
   "metadata": {},
   "source": [
    "Path calculation: for input we take the array of rssi measurements"
   ]
  },
  {
   "cell_type": "code",
   "execution_count": 124,
   "metadata": {
    "collapsed": true
   },
   "outputs": [],
   "source": [
    "def path_estimation(RSSI, x, y, v):\n",
    "    path_est = []\n",
    "    path_est.append((0,0))\n",
    "    #print(str(0) + \" \" + str(0))\n",
    "    for rssi in RSSI:\n",
    "        rssi_prob = cond_prob(rssi, n, m, mu, sigma)\n",
    "        motion_prob, acceleration = motion_map(x, y, v, mu_a, sigma_a, K)\n",
    "        prob = np.multiply(rssi_prob, motion_prob)\n",
    "        best_samples = np.where(prob==prob.max()) #choose not just bust and first but adequate\n",
    "        x = best_samples[0][0]\n",
    "        y = best_samples[1][0]\n",
    "        print(best_samples)\n",
    "        print(str(x) + \" \" + str(y))\n",
    "        a = acceleration[x][y]\n",
    "        \n",
    "        path_est.append((x, y))\n",
    "        v = v + a*dt\n",
    "        \n",
    "    return path_est"
   ]
  },
  {
   "cell_type": "markdown",
   "metadata": {},
   "source": [
    "## Test generation"
   ]
  },
  {
   "cell_type": "code",
   "execution_count": 123,
   "metadata": {
    "collapsed": false,
    "scrolled": true
   },
   "outputs": [],
   "source": [
    "def path_generation():\n",
    "    length = np.random.randint(5, 10)\n",
    "\n",
    "    path = [(0,0)]\n",
    "    rssi = []\n",
    "    rssi.append(np.random.normal(mu[0][0], sigma[0][0], 1))\n",
    "\n",
    "    for i in range(1, length):\n",
    "        dx = np.random.randint(0, 3) #change to generation with acceleration\n",
    "        dy = np.random.randint(0, 3)\n",
    "        x = path[-1][0] + dx\n",
    "        y = path[-1][1] + dy\n",
    "        #print(str(dx) + \" \" + str(dy))\n",
    "        path.append((x,y))\n",
    "        rssi.append(np.random.normal(mu[x][y], sigma[x][y], 1))\n",
    "        \n",
    "    return rssi, path"
   ]
  },
  {
   "cell_type": "code",
   "execution_count": 50,
   "metadata": {
    "collapsed": false
   },
   "outputs": [],
   "source": [
    "N = 5\n",
    "paths = []\n",
    "\n",
    "for i in range(0,5):\n",
    "    paths.append(path_generation())"
   ]
  },
  {
   "cell_type": "markdown",
   "metadata": {},
   "source": [
    "## Model evaluation"
   ]
  },
  {
   "cell_type": "code",
   "execution_count": 132,
   "metadata": {
    "collapsed": true
   },
   "outputs": [],
   "source": [
    "def error(path, path_est):\n",
    "    error = 0\n",
    "    for i in range(0, len(path)):\n",
    "        error = error + (path[i][0] - path_est[i][0])**2 + (path[i][1] - path_est[i][1])**2\n",
    "    error = math.sqrt(error)\n",
    "\n",
    "    print(\"Error : \" + str(error))"
   ]
  },
  {
   "cell_type": "code",
   "execution_count": 92,
   "metadata": {
    "collapsed": false,
    "scrolled": true
   },
   "outputs": [
    {
     "data": {
      "text/plain": [
       "[(0, 0), (0, 1), (1, 1), (1, 3), (2, 5)]"
      ]
     },
     "execution_count": 92,
     "metadata": {},
     "output_type": "execute_result"
    }
   ],
   "source": [
    "RSSI, path = path_generation()\n",
    "path"
   ]
  },
  {
   "cell_type": "code",
   "execution_count": 125,
   "metadata": {
    "collapsed": false
   },
   "outputs": [
    {
     "name": "stdout",
     "output_type": "stream",
     "text": [
      "(array([0]), array([0]))\n",
      "0 0\n",
      "(array([0]), array([0]))\n",
      "0 0\n",
      "(array([1]), array([1]))\n",
      "1 1\n",
      "(array([3]), array([3]))\n",
      "3 3\n",
      "(array([4]), array([4]))\n",
      "4 4\n"
     ]
    }
   ],
   "source": [
    "path_est = path_estimation(RSSI, x0, y0, v0)"
   ]
  },
  {
   "cell_type": "code",
   "execution_count": 126,
   "metadata": {
    "collapsed": false
   },
   "outputs": [
    {
     "data": {
      "text/plain": [
       "[(0, 0), (0, 0), (0, 0), (1, 1), (3, 3), (4, 4)]"
      ]
     },
     "execution_count": 126,
     "metadata": {},
     "output_type": "execute_result"
    }
   ],
   "source": [
    "path_est"
   ]
  },
  {
   "cell_type": "code",
   "execution_count": 133,
   "metadata": {
    "collapsed": false
   },
   "outputs": [
    {
     "name": "stdout",
     "output_type": "stream",
     "text": [
      "Error : 3.4641016151377544\n"
     ]
    }
   ],
   "source": [
    "error(path, path_est)"
   ]
  },
  {
   "cell_type": "code",
   "execution_count": null,
   "metadata": {
    "collapsed": true
   },
   "outputs": [],
   "source": []
  }
 ],
 "metadata": {
  "kernelspec": {
   "display_name": "Python 3",
   "language": "python",
   "name": "python3"
  },
  "language_info": {
   "codemirror_mode": {
    "name": "ipython",
    "version": 3
   },
   "file_extension": ".py",
   "mimetype": "text/x-python",
   "name": "python",
   "nbconvert_exporter": "python",
   "pygments_lexer": "ipython3",
   "version": "3.6.0"
  }
 },
 "nbformat": 4,
 "nbformat_minor": 2
}
