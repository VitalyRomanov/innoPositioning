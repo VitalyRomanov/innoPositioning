{
 "cells": [
  {
   "cell_type": "markdown",
   "metadata": {},
   "source": [
    "# Demo of thesis \"Outdoor localization with Wi-Fi\""
   ]
  },
  {
   "cell_type": "markdown",
   "metadata": {},
   "source": [
    "Author: Darina Dementyeva"
   ]
  },
  {
   "cell_type": "code",
   "execution_count": 1,
   "metadata": {
    "collapsed": true
   },
   "outputs": [],
   "source": [
    "import numpy as np\n",
    "import math\n",
    "from scipy import stats"
   ]
  },
  {
   "cell_type": "markdown",
   "metadata": {},
   "source": [
    "## Input data"
   ]
  },
  {
   "cell_type": "markdown",
   "metadata": {},
   "source": [
    "Here must be the size of the room and signal propagation map"
   ]
  },
  {
   "cell_type": "code",
   "execution_count": 2,
   "metadata": {
    "collapsed": true
   },
   "outputs": [],
   "source": [
    "#room size\n",
    "n = 100\n",
    "m = 100"
   ]
  },
  {
   "cell_type": "code",
   "execution_count": 3,
   "metadata": {
    "collapsed": false
   },
   "outputs": [],
   "source": [
    "#define params of signal propagation distribution\n",
    "\n",
    "mu = np.zeros((n, m)) # mean\n",
    "alpha = 3\n",
    "d0 = 4\n",
    "p_d0 = -53\n",
    "\n",
    "x = np.ones((m,1),int)*range(n)\n",
    "y = np.transpose(np.ones((n,1),int)*range(m))\n",
    "d = np.sqrt((x-49)**2 + (y-49)**2)+4\n",
    "mu = p_d0 - 10 * alpha * np.log10(d / d0)"
   ]
  },
  {
   "cell_type": "code",
   "execution_count": 4,
   "metadata": {
    "collapsed": true
   },
   "outputs": [],
   "source": [
    "sigma = np.ones((n, m)) #variance"
   ]
  },
  {
   "cell_type": "code",
   "execution_count": 5,
   "metadata": {
    "collapsed": true
   },
   "outputs": [],
   "source": [
    "#start point\n",
    "x0 = 0\n",
    "y0 = 0"
   ]
  },
  {
   "cell_type": "code",
   "execution_count": 6,
   "metadata": {
    "collapsed": true
   },
   "outputs": [],
   "source": [
    "#start velocity\n",
    "v0 = 0"
   ]
  },
  {
   "cell_type": "code",
   "execution_count": 7,
   "metadata": {
    "collapsed": true
   },
   "outputs": [],
   "source": [
    "#time interval\n",
    "dt = 1"
   ]
  },
  {
   "cell_type": "markdown",
   "metadata": {},
   "source": [
    "## Positioning Algorithm"
   ]
  },
  {
   "cell_type": "markdown",
   "metadata": {},
   "source": [
    "Some model parameters:"
   ]
  },
  {
   "cell_type": "code",
   "execution_count": 8,
   "metadata": {
    "collapsed": true
   },
   "outputs": [],
   "source": [
    "#person's motion: acceleration distribution\n",
    "mu_a = 0\n",
    "sigma_a = 1"
   ]
  },
  {
   "cell_type": "code",
   "execution_count": 9,
   "metadata": {
    "collapsed": true
   },
   "outputs": [],
   "source": [
    "#number of samples\n",
    "K = 100"
   ]
  },
  {
   "cell_type": "markdown",
   "metadata": {},
   "source": [
    "Supplementary functions:"
   ]
  },
  {
   "cell_type": "code",
   "execution_count": 10,
   "metadata": {
    "collapsed": true
   },
   "outputs": [],
   "source": [
    "def cond_prob(rssi, mu, sigma):     \n",
    "    cond_prob = stats.norm(mu, sigma).pdf(rssi)\n",
    "    return cond_prob"
   ]
  },
  {
   "cell_type": "code",
   "execution_count": 11,
   "metadata": {
    "collapsed": true
   },
   "outputs": [],
   "source": [
    "def sample_generation(mu_a, sigma_a, K):\n",
    "    a = np.random.normal(mu_a, sigma_a, K) #can be changed\n",
    "    p_a = stats.norm(mu_a, sigma_a).pdf(a)   \n",
    "    return [a, p_a]"
   ]
  },
  {
   "cell_type": "code",
   "execution_count": 33,
   "metadata": {
    "collapsed": false
   },
   "outputs": [],
   "source": [
    "def motion_map_bayes(x, y, n, m, v, mu_a, sigma_a, K):\n",
    "    #print(\"x y:\" + str(x) + \" \" + str(y))\n",
    "    samples  = sample_generation(mu_a, sigma_a, K)\n",
    "    motion_prob_map = np.zeros((n, m))\n",
    "    acc_map = np.zeros((n, m))\n",
    "    for i in range(0, len(samples[0])):\n",
    "        a = samples[0][i]\n",
    "        p_a = samples[1][i]\n",
    "        x_t = int(round(x + v*dt + a*a*dt/2, 0))\n",
    "        y_t = int(round(y + v*dt + a*a*dt/2, 0))\n",
    "        if (x_t < n and y_t < m and x_t >= 0 and y_t >= 0): \n",
    "            motion_prob_map[x_t][y_t] = p_a\n",
    "            acc_map[x_t][y_t] = a\n",
    "        \n",
    "    return motion_prob_map, acc_map"
   ]
  },
  {
   "cell_type": "markdown",
   "metadata": {},
   "source": [
    "### Path estimation"
   ]
  },
  {
   "cell_type": "markdown",
   "metadata": {},
   "source": [
    "#### First Bayes approach"
   ]
  },
  {
   "cell_type": "code",
   "execution_count": 34,
   "metadata": {
    "collapsed": true
   },
   "outputs": [],
   "source": [
    "def path_estimation_bayes(RSSI, x, y, v):\n",
    "    path_est = []\n",
    "    path_est.append((0,0))\n",
    "    #print(str(0) + \" \" + str(0))\n",
    "    for rssi in RSSI:\n",
    "        print(\"Velocity: \" + str(v))\n",
    "        rssi_prob = cond_prob(rssi, mu, sigma)\n",
    "        motion_prob, acceleration = motion_map_bayes(x, y, n, m, v, mu_a, sigma_a, K)\n",
    "        prob = np.multiply(rssi_prob, motion_prob)\n",
    "        best_samples = np.where(prob==prob.max()) #choose not just bust and first but adequate\n",
    "        x = best_samples[0][0]\n",
    "        y = best_samples[1][0]\n",
    "        #print(best_samples)\n",
    "        print(str(x) + \" \" + str(y))\n",
    "        a = acceleration[x][y]\n",
    "        #print(\"Acceleration: \" + str(a))\n",
    "        \n",
    "        path_est.append((x, y))\n",
    "        v = v + a*dt\n",
    "        \n",
    "    return path_est"
   ]
  },
  {
   "cell_type": "markdown",
   "metadata": {},
   "source": [
    "#### Viterbi approach"
   ]
  },
  {
   "cell_type": "code",
   "execution_count": 14,
   "metadata": {
    "collapsed": true
   },
   "outputs": [],
   "source": [
    "class Cell:\n",
    "    x = 0\n",
    "    y = 0\n",
    "    prob = 0\n",
    "    v = 0\n",
    "    \n",
    "    def __init__(self, x, y, prob, v):\n",
    "        self.x = x\n",
    "        self.y = y\n",
    "        self.prob = prob\n",
    "        self.v = v"
   ]
  },
  {
   "cell_type": "code",
   "execution_count": 15,
   "metadata": {
    "collapsed": false
   },
   "outputs": [],
   "source": [
    "def path_estimation_viterbi(RSSI, x, y, v):\n",
    "    path_est = []\n",
    "    steps = []\n",
    "    steps.append([Cell(0,0,1,0)])\n",
    "    for rssi in RSSI:\n",
    "        print(\"rssi: \"+ str(rssi))\n",
    "        rssi_prob = cond_prob(rssi, mu, sigma)\n",
    "        current_step = steps[-1]\n",
    "        next_step = []\n",
    "        for cell in current_step:\n",
    "            motion_prob_map, acc_map = motion_map(cell.x, cell.y, n, m, cell.v, mu_a, sigma_a, K)\n",
    "            prob = np.multiply(rssi_prob, motion_prob_map)\n",
    "            non_zero_cells = np.nonzero(prob)\n",
    "            for i in range(0, len(non_zero_cells[0])):\n",
    "                x = non_zero_cells[0][i]\n",
    "                y = non_zero_cells[1][i]\n",
    "                p = prob[x][y]\n",
    "                a = acc_map[x][y]\n",
    "                v = cell.v + a*dt\n",
    "                next_step.append(Cell(x,y,p,v))\n",
    "        print(len(next_step))\n",
    "        steps.append(next_step)    "
   ]
  },
  {
   "cell_type": "markdown",
   "metadata": {},
   "source": [
    "## Test generation"
   ]
  },
  {
   "cell_type": "code",
   "execution_count": 16,
   "metadata": {
    "collapsed": false,
    "scrolled": true
   },
   "outputs": [],
   "source": [
    "def path_generation(length):\n",
    "    path = [(0,0)]\n",
    "    rssi = []\n",
    "    rssi.append(np.random.normal(mu[0][0], sigma[0][0], 1))\n",
    "    v = 0\n",
    "\n",
    "    for i in range(1, length):\n",
    "        a = np.random.normal(1, 1)\n",
    "        dx = np.random.randint(0, 3) #change to generation with acceleration\n",
    "        dy = np.random.randint(0, 3)\n",
    "        x = int(round(path[-1][0] + v*dt + a*a*dt/2, 0))\n",
    "        y = int(round(path[-1][1] + v*dt + a*a*dt/2, 0))\n",
    "        v = v + a*dt\n",
    "        #print(str(dx) + \" \" + str(dy))\n",
    "        path.append((x,y))\n",
    "        rssi.append(np.random.normal(mu[x][y], sigma[x][y], 1))\n",
    "        \n",
    "    return rssi, path"
   ]
  },
  {
   "cell_type": "code",
   "execution_count": 17,
   "metadata": {
    "collapsed": false
   },
   "outputs": [],
   "source": [
    "N = 5\n",
    "paths = []\n",
    "\n",
    "for i in range(0,5):\n",
    "    paths.append(path_generation(5))"
   ]
  },
  {
   "cell_type": "markdown",
   "metadata": {},
   "source": [
    "## Model evaluation"
   ]
  },
  {
   "cell_type": "code",
   "execution_count": 18,
   "metadata": {
    "collapsed": true
   },
   "outputs": [],
   "source": [
    "def error(path, path_est):\n",
    "    error = 0\n",
    "    for i in range(0, len(path)):\n",
    "        error = error + (path[i][0] - path_est[i][0])**2 + (path[i][1] - path_est[i][1])**2\n",
    "    error = math.sqrt(error)\n",
    "\n",
    "    print(\"Error : \" + str(error))"
   ]
  },
  {
   "cell_type": "code",
   "execution_count": 19,
   "metadata": {
    "collapsed": false,
    "scrolled": true
   },
   "outputs": [
    {
     "data": {
      "text/plain": [
       "[(0, 0), (1, 1), (3, 3), (5, 5)]"
      ]
     },
     "execution_count": 19,
     "metadata": {},
     "output_type": "execute_result"
    }
   ],
   "source": [
    "RSSI, path = path_generation(4)\n",
    "path"
   ]
  },
  {
   "cell_type": "markdown",
   "metadata": {},
   "source": [
    "Bayes approach"
   ]
  },
  {
   "cell_type": "code",
   "execution_count": 54,
   "metadata": {
    "collapsed": false
   },
   "outputs": [
    {
     "name": "stdout",
     "output_type": "stream",
     "text": [
      "Velocity: 0\n",
      "0 0\n",
      "Velocity: 0.773028266129\n",
      "1 1\n",
      "Velocity: 0.144843302084\n",
      "1 1\n",
      "Velocity: -0.570247100941\n",
      "0 0\n"
     ]
    }
   ],
   "source": [
    "path_est = path_estimation_bayes(RSSI, x0, y0, v0)"
   ]
  },
  {
   "cell_type": "code",
   "execution_count": 55,
   "metadata": {
    "collapsed": false
   },
   "outputs": [
    {
     "name": "stdout",
     "output_type": "stream",
     "text": [
      "Error : 6.48074069840786\n"
     ]
    }
   ],
   "source": [
    "error(path, path_est)"
   ]
  }
 ],
 "metadata": {
  "kernelspec": {
   "display_name": "Python 3",
   "language": "python",
   "name": "python3"
  },
  "language_info": {
   "codemirror_mode": {
    "name": "ipython",
    "version": 3
   },
   "file_extension": ".py",
   "mimetype": "text/x-python",
   "name": "python",
   "nbconvert_exporter": "python",
   "pygments_lexer": "ipython3",
   "version": "3.6.0"
  }
 },
 "nbformat": 4,
 "nbformat_minor": 2
}
